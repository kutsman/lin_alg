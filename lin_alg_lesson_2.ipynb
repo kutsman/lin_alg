{
 "cells": [
  {
   "cell_type": "markdown",
   "id": "d6898511",
   "metadata": {},
   "source": [
    "## Практическое заданий №1"
   ]
  },
  {
   "cell_type": "markdown",
   "id": "d1991d2d",
   "metadata": {},
   "source": [
    "Задание__1.__ Установить, какие произведения матриц $AB$ и $BA$ определены, и найти размерности полученных матриц:\n",
    "\n",
    "   а) $A$ — матрица $4\\times 2$, $B$ — матрица $4\\times 2$;\n",
    "    \n",
    "   б) $A$ — матрица $2\\times 5$, $B$ — матрица $5\\times 3$;\n",
    "    \n",
    "   в) $A$ — матрица $8\\times 3$, $B$ — матрица $3\\times 8$;\n",
    "    \n",
    "   г) $A$ — квадратная матрица $4\\times 4$, $B$ — квадратная матрица $4\\times 4$."
   ]
  },
  {
   "cell_type": "markdown",
   "id": "d25aef08",
   "metadata": {},
   "source": [
    "Чтобы перемножить матрицы количество чтолбцов 1-ой матрицы должно равняться кол-ву строк 2-й матрицы. Исходя из этого правила следует:"
   ]
  },
  {
   "cell_type": "markdown",
   "id": "e7d1dd19",
   "metadata": {},
   "source": [
    "а) перемножение матриц $A*B$ как и $B*A$ невозможно, так как кол-во столбцов != количеству строк"
   ]
  },
  {
   "cell_type": "markdown",
   "id": "0aab47af",
   "metadata": {},
   "source": [
    "б) $A*B$ можно перемножить, т.к. число столбцов матрицы $А$ (равное 5) равно числу строк матрицы $В$ (равное 5) получим матрицу:\n",
    "\n",
    "$2х3$\n",
    "\n",
    "$B*A$ перемножить нельзя из-за неравенстра столбцов и строк"
   ]
  },
  {
   "cell_type": "code",
   "execution_count": 1,
   "id": "dede54d0",
   "metadata": {},
   "outputs": [],
   "source": [
    "import numpy as np"
   ]
  },
  {
   "cell_type": "code",
   "execution_count": 2,
   "id": "7cc74bbe",
   "metadata": {},
   "outputs": [
    {
     "data": {
      "text/plain": [
       "(array([[0, 5, 9, 9, 6],\n",
       "        [4, 9, 0, 4, 2]]),\n",
       " array([[3, 1, 7],\n",
       "        [8, 6, 8],\n",
       "        [1, 5, 7],\n",
       "        [5, 1, 0],\n",
       "        [0, 9, 6]]))"
      ]
     },
     "execution_count": 2,
     "metadata": {},
     "output_type": "execute_result"
    }
   ],
   "source": [
    "A = np.random.randint (0, 10, (2, 5))\n",
    "B = np.random.randint (0, 10, (5, 3))\n",
    "A, B"
   ]
  },
  {
   "cell_type": "code",
   "execution_count": 3,
   "id": "e5b01eb7",
   "metadata": {},
   "outputs": [
    {
     "data": {
      "text/plain": [
       "array([[ 94, 138, 139],\n",
       "       [104,  80, 112]])"
      ]
     },
     "execution_count": 3,
     "metadata": {},
     "output_type": "execute_result"
    }
   ],
   "source": [
    "AB = np.dot(A, B)\n",
    "AB"
   ]
  },
  {
   "cell_type": "code",
   "execution_count": 4,
   "id": "dad4e8b0",
   "metadata": {},
   "outputs": [
    {
     "data": {
      "text/plain": [
       "(2, 3)"
      ]
     },
     "execution_count": 4,
     "metadata": {},
     "output_type": "execute_result"
    }
   ],
   "source": [
    "AB.shape"
   ]
  },
  {
   "cell_type": "markdown",
   "id": "49429a35",
   "metadata": {},
   "source": [
    "в) $АB$ и $ВА$ перемножить можно так как число столбцов и строк равны в обоих случаях, в первом получим:\n",
    "\n",
    "$8x8$, во втором $3x3$"
   ]
  },
  {
   "cell_type": "code",
   "execution_count": 5,
   "id": "3b83a49d",
   "metadata": {},
   "outputs": [
    {
     "data": {
      "text/plain": [
       "(array([[3, 0, 6],\n",
       "        [2, 9, 9],\n",
       "        [5, 3, 4],\n",
       "        [2, 5, 7],\n",
       "        [2, 2, 3],\n",
       "        [1, 2, 5],\n",
       "        [0, 8, 1],\n",
       "        [0, 0, 6]]),\n",
       " array([[3, 6, 8, 7, 6, 7, 7, 2],\n",
       "        [4, 9, 7, 8, 8, 5, 5, 6],\n",
       "        [2, 9, 9, 5, 1, 9, 2, 3]]))"
      ]
     },
     "execution_count": 5,
     "metadata": {},
     "output_type": "execute_result"
    }
   ],
   "source": [
    "A = np.random.randint (0, 10, (8, 3))\n",
    "B = np.random.randint (0, 10, (3, 8))\n",
    "A,B"
   ]
  },
  {
   "cell_type": "code",
   "execution_count": 6,
   "id": "cd121830",
   "metadata": {},
   "outputs": [],
   "source": [
    "AB = np.dot(A, B)\n",
    "BA = np.dot(B, A)"
   ]
  },
  {
   "cell_type": "code",
   "execution_count": 7,
   "id": "2c333ecd",
   "metadata": {},
   "outputs": [
    {
     "data": {
      "text/plain": [
       "((8, 8), (3, 3))"
      ]
     },
     "execution_count": 7,
     "metadata": {},
     "output_type": "execute_result"
    }
   ],
   "source": [
    "AB.shape, BA.shape"
   ]
  },
  {
   "cell_type": "markdown",
   "id": "17002f3d",
   "metadata": {},
   "source": [
    "г) $AB$ и $BA$ перемножить можно, так как матрицы квадратные $m=n=4$. Получим $AB$ и $BA$ с размерностью $4$"
   ]
  },
  {
   "cell_type": "markdown",
   "id": "95990762",
   "metadata": {},
   "source": [
    "Задание__2.__ Найти сумму и произведение матриц $A=\\begin{pmatrix}\n",
    "1 & -2\\\\ \n",
    "3 & 0\n",
    "\\end{pmatrix}$ и $B=\\begin{pmatrix}\n",
    "4 & -1\\\\ \n",
    "0 & 5\n",
    "\\end{pmatrix}.$\n"
   ]
  },
  {
   "cell_type": "markdown",
   "id": "6360939d",
   "metadata": {},
   "source": [
    "Решение:\n",
    "\n",
    "$A*B$ = \n",
    "$\\begin{pmatrix}\n",
    "1*4 + (-2)*0 & (-1)*1 + (-2)*5\\\\ \n",
    "3*4 + 0*0 &  3*(-1) + 0*5\n",
    "\\end{pmatrix}$\n",
    "=$\\begin{pmatrix}\n",
    "4 & -11\\\\ \n",
    "12 &-3\n",
    "\\end{pmatrix}$\n",
    "\n",
    "$A+B$ = \n",
    "$\\begin{pmatrix}\n",
    "1+4 & -2-1\\\\ \n",
    "3+0 &  0+5\n",
    "\\end{pmatrix}$\n",
    "=$\\begin{pmatrix}\n",
    "5 & -3\\\\ \n",
    "3 & 5\n",
    "\\end{pmatrix}$"
   ]
  },
  {
   "cell_type": "code",
   "execution_count": 8,
   "id": "425a5419",
   "metadata": {},
   "outputs": [],
   "source": [
    "A = np.array([[1, -2],\n",
    "     [3, 0]])\n",
    "B = np.array([[4, -1], \n",
    "     [0, 5]])\n",
    "AB = np.dot(A,B)\n",
    "BA = np.dot(B,A)"
   ]
  },
  {
   "cell_type": "code",
   "execution_count": 9,
   "id": "a262a5a1",
   "metadata": {},
   "outputs": [
    {
     "data": {
      "text/plain": [
       "(array([[  4, -11],\n",
       "        [ 12,  -3]]),\n",
       " array([[ 1, -8],\n",
       "        [15,  0]]))"
      ]
     },
     "execution_count": 9,
     "metadata": {},
     "output_type": "execute_result"
    }
   ],
   "source": [
    "AB, BA"
   ]
  },
  {
   "cell_type": "code",
   "execution_count": 10,
   "id": "7110034d",
   "metadata": {},
   "outputs": [
    {
     "data": {
      "text/plain": [
       "array([[ 5, -3],\n",
       "       [ 3,  5]])"
      ]
     },
     "execution_count": 10,
     "metadata": {},
     "output_type": "execute_result"
    }
   ],
   "source": [
    "A+B"
   ]
  },
  {
   "cell_type": "markdown",
   "id": "f103b4c5",
   "metadata": {},
   "source": [
    "Задание__3.__ Из закономерностей сложения и умножения матриц на число можно сделать вывод, что матрицы одного размера образуют линейное пространство. Вычислить линейную комбинацию $3A-2B+4C$ для матриц $A=\\begin{pmatrix}\n",
    "1 & 7\\\\ \n",
    "3 & -6\n",
    "\\end{pmatrix}$, $B=\\begin{pmatrix}\n",
    "0 & 5\\\\ \n",
    "2 & -1\n",
    "\\end{pmatrix}$, $C=\\begin{pmatrix}\n",
    "2 & -4\\\\ \n",
    "1 & 1\n",
    "\\end{pmatrix}.$"
   ]
  },
  {
   "cell_type": "code",
   "execution_count": 11,
   "id": "d0a2daf7",
   "metadata": {},
   "outputs": [],
   "source": [
    "A = np.array([[1, 7],\n",
    "     [3, -6]])\n",
    "B = np.array([[0, 5], \n",
    "     [2, -1]])\n",
    "C = np.array([[2, -4], [1, 1]])"
   ]
  },
  {
   "cell_type": "markdown",
   "id": "b209997e",
   "metadata": {},
   "source": [
    "$3A-2B+4C$ = \n",
    "$\\begin{pmatrix}\n",
    "3 & 21\\\\ \n",
    "9 & -18\n",
    "\\end{pmatrix}$\n",
    "-$\\begin{pmatrix}\n",
    "0 & 10\\\\ \n",
    "4 & -2\n",
    "\\end{pmatrix}$\n",
    "+$\\begin{pmatrix}\n",
    "8 & -16\\\\ \n",
    "4 & 4\n",
    "\\end{pmatrix}$\n",
    "=$\\begin{pmatrix}\n",
    "3-0+8 & 21-10-16\\\\ \n",
    "9-4+4 &-18+4+4\n",
    "\\end{pmatrix}$\n",
    "=$\\begin{pmatrix}\n",
    "11 & -5\\\\ \n",
    "9 &-12\n",
    "\\end{pmatrix}$"
   ]
  },
  {
   "cell_type": "code",
   "execution_count": 12,
   "id": "71e94f9c",
   "metadata": {},
   "outputs": [
    {
     "data": {
      "text/plain": [
       "array([[ 11,  -5],\n",
       "       [  9, -12]])"
      ]
     },
     "execution_count": 12,
     "metadata": {},
     "output_type": "execute_result"
    }
   ],
   "source": [
    "3*A-2*B+4*C"
   ]
  },
  {
   "cell_type": "markdown",
   "id": "beee44af",
   "metadata": {},
   "source": [
    "Задание__4.__ Дана матрица $A=\\begin{pmatrix}\n",
    "4 & 1\\\\ \n",
    "5 & -2\\\\ \n",
    "2 & 3\n",
    "\\end{pmatrix}$.\n",
    "Вычислить $AA^{T}$ и $A^{T}A$."
   ]
  },
  {
   "cell_type": "markdown",
   "id": "13eb5ba1",
   "metadata": {},
   "source": [
    "Решение:\n",
    "\n",
    "$A^{T}$ = \n",
    "$\\begin{pmatrix}\n",
    "4 & 5 & 2\\\\ \n",
    "1 & -2 & 3\n",
    "\\end{pmatrix}$ - транспонирование матрицы А\n",
    "\n",
    "$A*A^{T}$ = \n",
    "$\\begin{pmatrix}\n",
    "4 & 1\\\\ \n",
    "5 & -2\\\\ \n",
    "2 & 3\n",
    "\\end{pmatrix}$\n",
    "*\n",
    "$\\begin{pmatrix}\n",
    "4 & 5 & 2\\\\ \n",
    "1 & -2 & 3\n",
    "\\end{pmatrix}$\n",
    "=\n",
    "$\\begin{pmatrix}\n",
    "4*4 + 1*1 & 4*5 + 1*(-2) & 4*2 + 1*3\\\\ \n",
    "5*4 + (-2)*1 & 5*5 + (-2)*(-2) & 5*2 + (-2)*3\\\\\n",
    "2*4 + 3*1 & 2*5 + 3*(-2) & 2*2 + 3*3\n",
    "\\end{pmatrix}$\n",
    "=\n",
    "$\\begin{pmatrix}\n",
    "17 & 18 & 11\\\\ \n",
    "18 & 29 & 4\\\\\n",
    "11 & 4 & 13\n",
    "\\end{pmatrix}$\n",
    "\n",
    "\n",
    "$A^{T}*A$ = \n",
    "$\\begin{pmatrix}\n",
    "4 & 5 & 2\\\\ \n",
    "1 & -2 & 3\n",
    "\\end{pmatrix}$\n",
    "*\n",
    "$\\begin{pmatrix}\n",
    "4 & 1\\\\ \n",
    "5 & -2\\\\ \n",
    "2 & 3\n",
    "\\end{pmatrix}$\n",
    "=\n",
    "$\\begin{pmatrix}\n",
    "4*4 + 5*5 + 2*2 & 4*1 + 5*(-2) + 2*3 \\\\ \n",
    "1*4 + (-2)*5 + 3*2 & 1*1 + (-2)*(-2) + 3*3 \\\\\n",
    "\\end{pmatrix}$\n",
    "=\n",
    "$\\begin{pmatrix}\n",
    "45 & 0\\\\ \n",
    "0 & 14\n",
    "\\end{pmatrix}$\n"
   ]
  },
  {
   "cell_type": "code",
   "execution_count": 13,
   "id": "01a51488",
   "metadata": {},
   "outputs": [],
   "source": [
    "A = np.array([[4, 1], \n",
    "              [5, -2], \n",
    "              [2, 3]])"
   ]
  },
  {
   "cell_type": "code",
   "execution_count": 14,
   "id": "acd3a2c3",
   "metadata": {},
   "outputs": [
    {
     "data": {
      "text/plain": [
       "array([[ 4,  5,  2],\n",
       "       [ 1, -2,  3]])"
      ]
     },
     "execution_count": 14,
     "metadata": {},
     "output_type": "execute_result"
    }
   ],
   "source": [
    "A.T # транспонирование матрицы A"
   ]
  },
  {
   "cell_type": "code",
   "execution_count": 15,
   "id": "5bf31119",
   "metadata": {},
   "outputs": [],
   "source": [
    "AAt = np.dot(A,A.T)\n",
    "AtA = np.dot(A.T,A)"
   ]
  },
  {
   "cell_type": "code",
   "execution_count": 16,
   "id": "ed59e2ca",
   "metadata": {},
   "outputs": [
    {
     "data": {
      "text/plain": [
       "(array([[17, 18, 11],\n",
       "        [18, 29,  4],\n",
       "        [11,  4, 13]]),\n",
       " array([[45,  0],\n",
       "        [ 0, 14]]))"
      ]
     },
     "execution_count": 16,
     "metadata": {},
     "output_type": "execute_result"
    }
   ],
   "source": [
    "AAt, AtA"
   ]
  },
  {
   "cell_type": "markdown",
   "id": "34ce5bfd",
   "metadata": {},
   "source": [
    "Задание__5*.__ Написать на Python функцию для перемножения двух произвольных матриц, не используя NumPy."
   ]
  },
  {
   "cell_type": "code",
   "execution_count": 28,
   "id": "cd2b7d2a",
   "metadata": {},
   "outputs": [
    {
     "name": "stdout",
     "output_type": "stream",
     "text": [
      "Матрица А:\n",
      "6 4 4 9 6\n",
      "1 7 6 8 0\n",
      "9 9 6 5 8\n",
      "\n",
      "Матрица B:\n",
      "6 0 9\n",
      "8 4 1\n",
      "8 9 7\n",
      "3 0 9\n",
      "0 1 7\n",
      "\n",
      "Матрица А+B:\n",
      "Количество строк не равно, эти матрицы нельзя сложить\n",
      "Умножение A*B:\n",
      "127 58 209\n",
      "134 82 130\n",
      "189 98 233\n",
      "\n",
      "Умножение C*D:\n",
      "31 30 25 36 32\n",
      "68 60 50 18 76\n",
      "37 36 30 45 38\n",
      "\n",
      "Сложение C+D:\n",
      "Количество столбцов не равно, эти матрицы нельзя сложить\n",
      "Умножение D*C:\n",
      "Умножение матриц данной размерности невозможно\n"
     ]
    }
   ],
   "source": [
    "class Matrix:\n",
    " def __init__(self, matrix):\n",
    "     self.matrix= matrix\n",
    " def __str__(self):\n",
    "     return ','.join(map(str, self.matrix)).replace(']', '\\n').replace('[', '').replace(',', '')\n",
    " def __add__(self, other):\n",
    "     if len(self.matrix) == len(other.matrix):\n",
    "         for row1, row2 in zip(self.matrix, other.matrix):\n",
    "             if len(row1) != len(row2):\n",
    "                 return f'Количество столбцов не равно, эти матрицы нельзя сложить'\n",
    "         result = [[a + b for a, b in zip(row1, row2)] for row1, row2 in zip(self.matrix, other.matrix)]\n",
    "         return ','.join(map(str, result)).replace(']', '\\n').replace('[', '').replace(',', '')\n",
    "     else:\n",
    "         return f'Количество строк не равно, эти матрицы нельзя сложить'\n",
    "\n",
    " def __mul__(self, other):\n",
    "     result = []\n",
    "     try:\n",
    "         for row in self.matrix:\n",
    "             row_result = []\n",
    "             for i in range(len(other.matrix[0])):\n",
    "                 num = 0\n",
    "                 for idx, el in enumerate(row):\n",
    "                     num += (el * other.matrix[idx][i])\n",
    "                 row_result.append(num)\n",
    "             result.append(row_result)\n",
    "         return ','.join(map(str, result)).replace(']', '\\n').replace('[', '').replace(',', '')\n",
    "     except:\n",
    "         return f'Умножение матриц данной размерности невозможно'\n",
    "\n",
    "\n",
    "    \n",
    "a1 = np.random.randint (0, 10, (3, 5))\n",
    "b1 = np.random.randint (0, 10, (5, 3))\n",
    "A = Matrix(a1)\n",
    "B = Matrix(b1)\n",
    "print(f\"Матрица А:\\n{A}\")\n",
    "print(f\"Матрица B:\\n{B}\")\n",
    "print(f\"Матрица А+B:\\n{A + B}\")\n",
    "\n",
    "c1 = np.random.randint (0, 10, (3, 2))\n",
    "d1 = np.random.randint (0, 10, (3, 5))\n",
    "\n",
    "C = Matrix(c1)\n",
    "D = Matrix(d1)\n",
    "\n",
    "print(f\"Умножение A*B:\\n{A * B}\")\n",
    "print(f\"Умножение C*D:\\n{C * D}\")\n",
    "print(f\"Сложение C+D:\\n{C + D}\")\n",
    "print(f\"Умножение D*C:\\n{D * C}\")"
   ]
  },
  {
   "cell_type": "markdown",
   "id": "282e45b4",
   "metadata": {},
   "source": [
    "## Практическое заданий №2"
   ]
  },
  {
   "cell_type": "markdown",
   "id": "4e160925",
   "metadata": {},
   "source": [
    "Задание__1.__ Вычислить определитель:\n",
    "\n",
    "   a)\n",
    "\n",
    "$$\\begin{vmatrix}\n",
    "sinx & -cosx\\\\ \n",
    "cosx & sinx\n",
    "\\end{vmatrix};$$\n",
    "\n",
    "   б)\n",
    "    \n",
    "$$\\begin{vmatrix}\n",
    "4 & 2 & 3\\\\ \n",
    "0 & 5 & 1\\\\ \n",
    "0 & 0 & 9\n",
    "\\end{vmatrix};$$\n",
    "    \n",
    "   в)\n",
    "\n",
    "$$\\begin{vmatrix}\n",
    "1 & 2 & 3\\\\ \n",
    "4 & 5 & 6\\\\ \n",
    "7 & 8 & 9\n",
    "\\end{vmatrix}.$$"
   ]
  },
  {
   "cell_type": "markdown",
   "id": "c231f48c",
   "metadata": {},
   "source": [
    "а) $ sinx*sinx - cosx*(-cosx)$ = $sin^{2}x$ + $cos^{2}x$ = 1"
   ]
  },
  {
   "cell_type": "markdown",
   "id": "2ee4b422",
   "metadata": {},
   "source": [
    "б)\n",
    "$\\begin{vmatrix}\n",
    "4 & 2 & 3\\\\ \n",
    "0 & 5 & 1\\\\ \n",
    "0 & 0 & 9\n",
    "\\end{vmatrix}$\n",
    "= $4*(5*9 - 1*0) - 2*(0*9 - 0*1) + 3*(0*0 - 0*5)$ = $4*45$ = $180$"
   ]
  },
  {
   "cell_type": "markdown",
   "id": "2d23539b",
   "metadata": {},
   "source": [
    "в)\n",
    "$\\begin{vmatrix}\n",
    "1 & 2 & 3\\\\ \n",
    "4 & 5 & 6\\\\ \n",
    "7 & 8 & 9\n",
    "\\end{vmatrix}$\n",
    "= $1*(5*9 - 6*8) - 2*(4*9 - 7*6) + 3*(4*8 - 7*5)$ = $1*(45-78) - 2*(36-42) + 3*(32-35)$ = \n",
    "\n",
    "$-3 + 12 - 9$ = $-12+12$ = $0$"
   ]
  },
  {
   "cell_type": "code",
   "execution_count": 18,
   "id": "a0706ac1",
   "metadata": {},
   "outputs": [
    {
     "data": {
      "text/plain": [
       "180.0"
      ]
     },
     "execution_count": 18,
     "metadata": {},
     "output_type": "execute_result"
    }
   ],
   "source": [
    "a = np.array([[4, 2, 3], [0, 5, 1], [0, 0, 9]])\n",
    "np.linalg.det(a)"
   ]
  },
  {
   "cell_type": "code",
   "execution_count": 19,
   "id": "ab43e1b8",
   "metadata": {},
   "outputs": [
    {
     "data": {
      "text/plain": [
       "0.0"
      ]
     },
     "execution_count": 19,
     "metadata": {},
     "output_type": "execute_result"
    }
   ],
   "source": [
    "b = np.array([[1, 2, 3], [4, 5, 6], [7, 8, 9]])\n",
    "round(np.linalg.det(b), 2)"
   ]
  },
  {
   "cell_type": "markdown",
   "id": "a0a8dcd0",
   "metadata": {},
   "source": [
    "Задание__2.__ Определитель матрицы $A$ равен $4$. Найти:\n",
    "\n",
    "   а) $det(A^{2})$;\n",
    "    \n",
    "   б) $det(A^{T})$;\n",
    "    \n",
    "   в) $det(2A)$.\n",
    "   "
   ]
  },
  {
   "cell_type": "markdown",
   "id": "31367af7",
   "metadata": {},
   "source": [
    "а) $det(A^{2})$ = $4*4$ = $16$\n",
    "\n",
    "б) $det(A^{T})$ = $4$, т.к. определитель транспонированной матрицы равен определителю исходной матрицы\n",
    "\n",
    "в) $det(2A)$ = $2^{n}$ * $4$ = $2^{n}$ * $2^{2}$ = $2^{n+2}$"
   ]
  },
  {
   "cell_type": "markdown",
   "id": "35b53938",
   "metadata": {},
   "source": [
    "Задание__3.__  Доказать, что матрица\n",
    "\n",
    "$$\\begin{pmatrix}\n",
    "-2 & 7 & -3\\\\ \n",
    "4 & -14 & 6\\\\ \n",
    "-3 & 7 & 13\n",
    "\\end{pmatrix}$$\n",
    "   \n",
    "вырожденная."
   ]
  },
  {
   "cell_type": "markdown",
   "id": "32f32095",
   "metadata": {},
   "source": [
    "$\\begin{pmatrix}\n",
    "-2 & 7 & -3\\\\ \n",
    "4 & -14 & 6\\\\ \n",
    "-3 & 7 & 13\n",
    "\\end{pmatrix}$\n",
    "= $-2*(-14*13 - 6*7) - 7*(4*13 - 3*(-6)) + (-3)*(4*7 - (-3)*(-14))$ = $-2*(-224) - 7*(70) + (-3)*(-14)$=\n",
    "$448-490+42$ = $0$ - определитель матрицы равено НУЛЮ\n",
    "\n",
    "Значит матрица является вырожденной"
   ]
  },
  {
   "cell_type": "code",
   "execution_count": 20,
   "id": "7293c530",
   "metadata": {},
   "outputs": [
    {
     "data": {
      "text/plain": [
       "0.0"
      ]
     },
     "execution_count": 20,
     "metadata": {},
     "output_type": "execute_result"
    }
   ],
   "source": [
    "a = np.array([[-2, 7, -3], \n",
    "              [4, -14, 6],\n",
    "              [-3, 7, 13]])\n",
    "np.linalg.det(a)"
   ]
  },
  {
   "cell_type": "markdown",
   "id": "08edd253",
   "metadata": {},
   "source": [
    "Задание__4.__ Найти ранг матрицы:\n",
    "\n",
    "   а) $\\begin{pmatrix}\n",
    "1 & 2 & 3\\\\ \n",
    "1 & 1 & 1\\\\ \n",
    "2 & 3 & 4\n",
    "\\end{pmatrix};$\n",
    "\n",
    "   б) $\\begin{pmatrix}\n",
    "0 & 0 & 2 & 1\\\\ \n",
    "0 & 0 & 2 & 2\\\\ \n",
    "0 & 0 & 4 & 3\\\\ \n",
    "2 & 3 & 5 & 6\n",
    "\\end{pmatrix}.$"
   ]
  },
  {
   "cell_type": "markdown",
   "id": "2025ccb6",
   "metadata": {},
   "source": [
    "Решение:\n",
    "\n",
    "а) $\\begin{pmatrix}\n",
    "1 & 2 & 3\\\\ \n",
    "1 & 1 & 1\\\\ \n",
    "2 & 3 & 4\n",
    "\\end{pmatrix}$, 3 строка равняется суммой 1-й и 2-й, ее можно отбросить\n",
    "$\\begin{pmatrix}\n",
    "1 & 2 & 3\\\\ \n",
    "1 & 1 & 1\n",
    "\\end{pmatrix}$ и из 2-й строки вычтем 1-ю\n",
    "$\\begin{pmatrix}\n",
    "1 & 2 & 3\\\\ \n",
    "0 & -1 & -2\n",
    "\\end{pmatrix}$"
   ]
  },
  {
   "cell_type": "code",
   "execution_count": 21,
   "id": "4bcc9832",
   "metadata": {},
   "outputs": [
    {
     "data": {
      "text/plain": [
       "2"
      ]
     },
     "execution_count": 21,
     "metadata": {},
     "output_type": "execute_result"
    }
   ],
   "source": [
    "a = np.array([[1, 2, 3], \n",
    "              [1, 1, 1],\n",
    "              [2, 3, 4]])\n",
    "np.linalg.matrix_rank(a)"
   ]
  },
  {
   "cell_type": "markdown",
   "id": "d029f73b",
   "metadata": {},
   "source": [
    " б) $\\begin{pmatrix}\n",
    "0 & 0 & 2 & 1\\\\ \n",
    "0 & 0 & 2 & 2\\\\ \n",
    "0 & 0 & 4 & 3\\\\ \n",
    "2 & 3 & 5 & 6\n",
    "\\end{pmatrix}$\n",
    "передвинем нижню строку наверх\n",
    "$\\begin{pmatrix}\n",
    "2 & 3 & 5 & 6\\\\\n",
    "0 & 0 & 2 & 1\\\\ \n",
    "0 & 0 & 2 & 2\\\\ \n",
    "0 & 0 & 4 & 3\n",
    "\\end{pmatrix}$\n",
    "вычтем их последней строки 2-ю строку 2 раза\n",
    "$\\begin{pmatrix}\n",
    "2 & 3 & 5 & 6\\\\\n",
    "0 & 0 & 2 & 1\\\\ \n",
    "0 & 0 & 2 & 2\\\\ \n",
    "0 & 0 & 0 & 1\n",
    "\\end{pmatrix}$"
   ]
  },
  {
   "cell_type": "code",
   "execution_count": 23,
   "id": "3c31eb62",
   "metadata": {},
   "outputs": [
    {
     "data": {
      "text/plain": [
       "array([[0, 0, 0, 2],\n",
       "       [0, 0, 0, 3],\n",
       "       [2, 2, 4, 5],\n",
       "       [1, 2, 3, 6]])"
      ]
     },
     "execution_count": 23,
     "metadata": {},
     "output_type": "execute_result"
    }
   ],
   "source": [
    "b.T"
   ]
  },
  {
   "cell_type": "code",
   "execution_count": 22,
   "id": "457bb4dc",
   "metadata": {},
   "outputs": [
    {
     "data": {
      "text/plain": [
       "3"
      ]
     },
     "execution_count": 22,
     "metadata": {},
     "output_type": "execute_result"
    }
   ],
   "source": [
    "b = np.array([[0, 0, 2, 1], \n",
    "              [0, 0, 2, 2], \n",
    "              [0, 0, 4, 3], \n",
    "              [2, 3, 5, 6]])\n",
    "np.linalg.matrix_rank(b)"
   ]
  },
  {
   "cell_type": "code",
   "execution_count": null,
   "id": "8fb78a5b",
   "metadata": {},
   "outputs": [],
   "source": []
  }
 ],
 "metadata": {
  "kernelspec": {
   "display_name": "Python 3 (ipykernel)",
   "language": "python",
   "name": "python3"
  },
  "language_info": {
   "codemirror_mode": {
    "name": "ipython",
    "version": 3
   },
   "file_extension": ".py",
   "mimetype": "text/x-python",
   "name": "python",
   "nbconvert_exporter": "python",
   "pygments_lexer": "ipython3",
   "version": "3.8.10"
  }
 },
 "nbformat": 4,
 "nbformat_minor": 5
}
