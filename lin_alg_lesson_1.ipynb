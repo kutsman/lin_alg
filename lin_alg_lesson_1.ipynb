{
 "cells": [
  {
   "cell_type": "markdown",
   "id": "2754e1f9",
   "metadata": {},
   "source": [
    "Задание 1. Исследуйте на линейную зависимость\n",
    "f1(x)=e**x,f2(x)=1 ,f3(x)=x+1, f4(x)=x−e**x."
   ]
  },
  {
   "cell_type": "markdown",
   "id": "cbea4d27",
   "metadata": {},
   "source": [
    "Можно выразить f4(x) = (x+1) - 1 - e**x = f3(x) - f2(x) - f1(x) --> вектора линейно зависимы"
   ]
  },
  {
   "cell_type": "markdown",
   "id": "2e5551c7",
   "metadata": {},
   "source": [
    "Задание 2. Исследуйте на линейную зависимость: f1(x)=2, f2(x)=x, f3(x)=x2, f4(x)=(x+1)2"
   ]
  },
  {
   "cell_type": "markdown",
   "id": "fa8cc4c8",
   "metadata": {},
   "source": [
    "(x+1)**2 = x**2 + x + x + 1 = x**2 + 2x + 1 = f3(x) + 2f2(x)+f1(x)/2 = f4(x) --> вектора линейно зависимы"
   ]
  },
  {
   "cell_type": "markdown",
   "id": "635253c6",
   "metadata": {},
   "source": [
    "Задание 3. Найти координаты вектора $x = (2, 3, 5)\\in \\mathbb{R}^{3}$ в базисе $b_{1}=(0, 0, 10)$, $b_{2}=(2, 0, 0)$, $b_{3}=(0, 1, 0)$.\n"
   ]
  },
  {
   "cell_type": "markdown",
   "id": "20eeef2f",
   "metadata": {},
   "source": [
    "x = (2,0,0) + (0,3,0) + (0,0,5) = 0.5 * (0,0,10) + 1 * (2, 0, 0) + 3 * (0, 1, 0)\n",
    "Координаты вектора х = (0.5, 1, 3)"
   ]
  },
  {
   "cell_type": "markdown",
   "id": "e233cf95",
   "metadata": {},
   "source": [
    "Задание 4. Найдите координаты вектора 3х**2 - 2x + 2 R**3\n",
    "\n",
    "a) базисе: 1, x, x**2;\n",
    "b) в базисе: x**2, x−1, 1."
   ]
  },
  {
   "cell_type": "markdown",
   "id": "c487ce00",
   "metadata": {},
   "source": [
    "a) -->  2*(1) - 2*(x) + 3*(x**2) = (2,-2,3)\n",
    "\n",
    "b) --> 3*(x**2) - 2*(x-1) + 0*(1) = (3, -2, 0)"
   ]
  },
  {
   "cell_type": "markdown",
   "id": "50a62749",
   "metadata": {},
   "source": [
    "Задание 5. Установить, является ли линейным подпространством:\n",
    "\n",
    "а) совокупность всех векторов трехмерного пространства, у которых по крайней мере одна из первых двух координат равна нулю;\n",
    "\n",
    "б) все векторы, являющиеся линейными комбинациями данных векторов  {u1,u2,…,un} ."
   ]
  },
  {
   "cell_type": "markdown",
   "id": "52ccb48d",
   "metadata": {},
   "source": [
    "a) Сложим такие вектора (0, a, b) + (c, 0, d) = (c, a, b+d) видно что совокупность не является подпространством"
   ]
  },
  {
   "cell_type": "markdown",
   "id": "e97c2d45",
   "metadata": {},
   "source": [
    "b)  a= x1u1+x2u2+ x3u3 + xnun\n",
    "\n",
    "    b = y1u1+y2u2+x3u3 + ynun\n",
    "    \n",
    "    a + b = (x1+y1)u1+(x2+y2)u2+(x3+y3)u3+ (xn+yn)un\n",
    "    \n",
    "    alpha*a = alpha*x1u1+alpha*x2u2+ alpha*x3u3 + alpha*xnun\n",
    "    \n",
    "    beta*b = beta*y1u1+beta*y2u2+beta*x3u3 + beta*ynun\n",
    "    \n",
    "    совокупностья является линейным подпространством\n",
    "    "
   ]
  },
  {
   "cell_type": "markdown",
   "id": "440d9011",
   "metadata": {},
   "source": [
    "Задание 1. 1. Найти скалярное произведение векторов x,y∈R:\n",
    "а) x=(0,−3,6), y=(−4,7,9);\n",
    "б)  x=(7,−4,0,1), y=(−3,1,11,2)"
   ]
  },
  {
   "cell_type": "code",
   "execution_count": 17,
   "id": "520bab33",
   "metadata": {},
   "outputs": [],
   "source": [
    "import numpy as np\n",
    "from numpy.linalg import norm"
   ]
  },
  {
   "cell_type": "code",
   "execution_count": 20,
   "id": "ac3749b9",
   "metadata": {},
   "outputs": [
    {
     "name": "stdout",
     "output_type": "stream",
     "text": [
      "a) 33\n",
      "б) -23\n"
     ]
    }
   ],
   "source": [
    "def vect_scalar(a, b):\n",
    " result = 0\n",
    " for x, y in zip(a, b):\n",
    "     result += x*y\n",
    " return result\n",
    "x = [0, -3, 6]\n",
    "y = [-4, 7, 9]\n",
    "print(f'a) {vect_scalar(x, y)}')\n",
    "x = [7, -4, 0, 1]\n",
    "y = [-3, 1, 11, 2]\n",
    "print(f'б) {vect_scalar(x, y)}')"
   ]
  },
  {
   "cell_type": "markdown",
   "id": "4d1bd9cc",
   "metadata": {},
   "source": [
    "Задание 2. Найти нормы векторов  (4,2,4)  и  (12,3,4)  и угол между ними."
   ]
  },
  {
   "cell_type": "code",
   "execution_count": 26,
   "id": "6d0cb6c0",
   "metadata": {},
   "outputs": [
    {
     "name": "stdout",
     "output_type": "stream",
     "text": [
      "norm(x) = 6.0, norm(y) = 13.0, phi = 26.176952171666542 degrees\n"
     ]
    }
   ],
   "source": [
    "import numpy as np\n",
    "import math\n",
    "from numpy.linalg import norm\n",
    "x = np.array([4, 2, 4])\n",
    "y = np.array([12, 3, 4])\n",
    "norm_x = np.sqrt(vect_scalar(x, x))\n",
    "norm_y = np.sqrt(vect_scalar(y, y))\n",
    "cos_phi = vect_scalar(x, y) / (norm_x * norm_y)\n",
    "print(f'norm(x) = {norm_x}, norm(y) = {norm_y}, phi = {math.acos(cos_phi)*(180/math.pi)} degrees')"
   ]
  },
  {
   "cell_type": "code",
   "execution_count": 27,
   "id": "4412cda3",
   "metadata": {},
   "outputs": [
    {
     "data": {
      "text/plain": [
       "(6.0, 13.0, 26.176952171666557)"
      ]
     },
     "execution_count": 27,
     "metadata": {},
     "output_type": "execute_result"
    }
   ],
   "source": [
    "from numpy.linalg import norm\n",
    "norm(x), norm(y), math.acos(x.dot(y)/norm(x)/norm(y))*(180/math.pi)\n"
   ]
  },
  {
   "cell_type": "markdown",
   "id": "84200334",
   "metadata": {},
   "source": [
    "Задание 3. Будет ли линейное пространство евклидовым, если за скалярное произведение принять:\n",
    "а) произведение длин векторов;\n",
    "б) утроенное обычное скалярное произведение векторов?"
   ]
  },
  {
   "cell_type": "code",
   "execution_count": 28,
   "id": "ea5de9b5",
   "metadata": {},
   "outputs": [],
   "source": [
    "def vect_len_mul(a, b):\n",
    " return norm(a) * norm(b)"
   ]
  },
  {
   "cell_type": "code",
   "execution_count": 29,
   "id": "a8d34b12",
   "metadata": {},
   "outputs": [],
   "source": [
    "def triple_scalar(a, b):\n",
    " return 3*a.dot(b)"
   ]
  },
  {
   "cell_type": "code",
   "execution_count": 30,
   "id": "601d7d10",
   "metadata": {},
   "outputs": [],
   "source": [
    "def check_axioms(func):\n",
    " x = np.array([1, 2, 4])\n",
    " y = np.array([4, 5, 6])\n",
    " x1 = np.array([7, 8, 9])\n",
    " x2 = np.array([2, 5, 11])\n",
    " Lambda = 3\n",
    " #1 (x ,y) = (y, x)\n",
    " print(func(x, y) == func(y, x))\n",
    " #2 (lambda*x, y) = lambda(x, y)\n",
    " print(func(Lambda*x, y) == Lambda*func(x, y))\n",
    " #3 (x1+x2, y) = (x1, y) + (x2)\n",
    " print(func(x1+x2, y) == (func(x1, y) + func(x2, y)))\n",
    " #4 (x, x) >= 0, (x, x) = 0 -> x=0\n",
    " nul = np.array([0, 0, 0])\n",
    " print(func(x, x) >= 0, func(nul, nul) == 0)"
   ]
  },
  {
   "cell_type": "code",
   "execution_count": 31,
   "id": "70e39aa0",
   "metadata": {},
   "outputs": [
    {
     "name": "stdout",
     "output_type": "stream",
     "text": [
      "CASE A:\n",
      "True\n",
      "False\n",
      "False\n",
      "True True\n",
      "------------\n",
      "CASE B\n",
      "True\n",
      "True\n",
      "True\n",
      "True True\n"
     ]
    }
   ],
   "source": [
    "print(\"CASE A:\")\n",
    "check_axioms(vect_len_mul)\n",
    "print('------------')\n",
    "print('CASE B')\n",
    "check_axioms(triple_scalar)"
   ]
  },
  {
   "cell_type": "markdown",
   "id": "7364ac3a",
   "metadata": {},
   "source": [
    "1 не выполняется, 2ое - выполняется"
   ]
  },
  {
   "cell_type": "markdown",
   "id": "88a0b0bf",
   "metadata": {},
   "source": [
    "Какие из нижеперечисленных векторов образуют ортонормированный базис в линейном пространстве  R3 :\n",
    "\n",
    "а)  (1,0,0),(0,0,1); \n",
    "\n",
    "б)  (1/2–√,−1/2–√,0),(1/2–√,1/2–√,0),(0,0,1);\n",
    "\n",
    "в)  (1/2,−1/2,0),(0,1/2,1/2),(0,0,1); \n",
    "\n",
    "г)  (1,0,0),(0,1,0),(0,0,1)?"
   ]
  },
  {
   "cell_type": "markdown",
   "id": "c1966a69",
   "metadata": {},
   "source": [
    "а) не хватает одного вектора для трехмерного пространства\n",
    "б) ниже:"
   ]
  },
  {
   "cell_type": "code",
   "execution_count": 32,
   "id": "f537e474",
   "metadata": {},
   "outputs": [
    {
     "data": {
      "text/plain": [
       "(0.0, 0.0, 0.0, 0.9999999999999999, 0.9999999999999999, 1.0)"
      ]
     },
     "execution_count": 32,
     "metadata": {},
     "output_type": "execute_result"
    }
   ],
   "source": [
    "two_sqrt = 1/np.sqrt(2)\n",
    "b1 = np.array([two_sqrt, -two_sqrt, 0])\n",
    "b2 = np.array([two_sqrt, two_sqrt, 0])\n",
    "b3 = np.array([0, 0, 1])\n",
    "b1.dot(b2), b1.dot(b3), b2.dot(b3), norm(b1), norm(b2), norm(b3)"
   ]
  },
  {
   "cell_type": "markdown",
   "id": "73c558f1",
   "metadata": {},
   "source": [
    "ортонормирован"
   ]
  },
  {
   "cell_type": "markdown",
   "id": "2e64df10",
   "metadata": {},
   "source": [
    "в) ниже:"
   ]
  },
  {
   "cell_type": "code",
   "execution_count": 33,
   "id": "29530ae3",
   "metadata": {},
   "outputs": [
    {
     "data": {
      "text/plain": [
       "(-0.25, 0.0, 0.5, 0.7071067811865476, 0.7071067811865476, 1.0)"
      ]
     },
     "execution_count": 33,
     "metadata": {},
     "output_type": "execute_result"
    }
   ],
   "source": [
    "b1 = np.array([0.5, -0.5, 0])\n",
    "b2 = np.array([0, 0.5, 0.5])\n",
    "b3 = np.array([0, 0, 1])\n",
    "b1.dot(b2), b1.dot(b3), b2.dot(b3), norm(b1), norm(b2), norm(b3)"
   ]
  },
  {
   "cell_type": "markdown",
   "id": "3c0f4ca0",
   "metadata": {},
   "source": [
    "не образуют"
   ]
  },
  {
   "cell_type": "markdown",
   "id": "afb7f580",
   "metadata": {},
   "source": [
    "г) ортонормирован"
   ]
  },
  {
   "cell_type": "code",
   "execution_count": null,
   "id": "c717cd2f",
   "metadata": {},
   "outputs": [],
   "source": []
  }
 ],
 "metadata": {
  "kernelspec": {
   "display_name": "Python 3 (ipykernel)",
   "language": "python",
   "name": "python3"
  },
  "language_info": {
   "codemirror_mode": {
    "name": "ipython",
    "version": 3
   },
   "file_extension": ".py",
   "mimetype": "text/x-python",
   "name": "python",
   "nbconvert_exporter": "python",
   "pygments_lexer": "ipython3",
   "version": "3.8.10"
  }
 },
 "nbformat": 4,
 "nbformat_minor": 5
}
