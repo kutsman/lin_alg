{
 "cells": [
  {
   "cell_type": "markdown",
   "id": "b527fbe2",
   "metadata": {},
   "source": [
    "1. Найдите посредством NumPy SVD для матрицы:\n",
    "\n",
    "$$\\begin{pmatrix}\n",
    "1 & 2 & 0\\\\ \n",
    "0 & 0 & 5\\\\ \n",
    "3 & -4 & 2\\\\ \n",
    "1 & 6 & 5\\\\ \n",
    "0 & 1 & 0\n",
    "\\end{pmatrix}.$$\n",
    "\n",
    "\n",
    "2. Для матрицы из предыдущего задания найдите:\n",
    "\n",
    "    а) евклидову норму;\n",
    "    \n",
    "    б) норму Фробениуса."
   ]
  },
  {
   "cell_type": "code",
   "execution_count": 1,
   "id": "ff78d2d3",
   "metadata": {},
   "outputs": [],
   "source": [
    "import numpy as np\n",
    "np.set_printoptions(precision=2, suppress=True)"
   ]
  },
  {
   "cell_type": "code",
   "execution_count": 2,
   "id": "ebd05671",
   "metadata": {},
   "outputs": [
    {
     "name": "stdout",
     "output_type": "stream",
     "text": [
      "Матрица A:\n",
      "[[ 1  2  0]\n",
      " [ 0  0  5]\n",
      " [ 3 -4  2]\n",
      " [ 1  6  5]\n",
      " [ 0  1  0]]\n"
     ]
    }
   ],
   "source": [
    "A = np.array([[1, 2, 0],\n",
    "              [0, 0, 5],\n",
    "              [3, -4, 2],\n",
    "              [1, 6, 5],\n",
    "              [0, 1, 0]])\n",
    "print(f'Матрица A:\\n{A}')"
   ]
  },
  {
   "cell_type": "markdown",
   "id": "18852384",
   "metadata": {},
   "source": [
    "Для любой ненулевой вещественной матрицы $A$ размером $m\\times n$ существуют две вещественные ортогональные матрицы $U$ и $V$, такие, что $U^{T}AV$ считается матрицей $D$ размера $m\\times n$ с неотрицательными элементами на главной диагонали. В прямоугольной матрице под главной диагональю будем понимать совокупность элементов $d_{ii}$). Все элементы матрицы $D$, не лежащие на главной диагонали, считаются нулевыми.\n",
    "\n",
    "Представление матрицы $A$ в виде:\n",
    "\n",
    "$$A=UDV^{T}$$\n",
    "\n",
    "называется _сингулярным разложением — Singular Values Decomposition, SVD_."
   ]
  },
  {
   "cell_type": "code",
   "execution_count": 17,
   "id": "97a14b8c",
   "metadata": {},
   "outputs": [],
   "source": [
    "\n",
    "U, s, W = np.linalg.svd(A)\n",
    "\n",
    "# Транспонируем матрицу W\n",
    "V = W.T\n",
    "\n",
    "# s - список диагональных элементов, его нужно привести к виду диагональной матрицы для наглядности\n",
    "D = np.zeros_like(A, dtype=float) #возвращает массив нулей с той же формой и типом,что и заданный массив.\n",
    "D[np.diag_indices(min(A.shape))] = s #diag_indices возвращает индексы элементов главной диагонали квадратного \n",
    "                                     #массива заданного размера и размерности."
   ]
  },
  {
   "cell_type": "code",
   "execution_count": 4,
   "id": "e07b6421",
   "metadata": {
    "scrolled": true
   },
   "outputs": [
    {
     "name": "stdout",
     "output_type": "stream",
     "text": [
      "Матрица D:\n",
      "[[8.82 0.   0.  ]\n",
      " [0.   6.14 0.  ]\n",
      " [0.   0.   2.53]\n",
      " [0.   0.   0.  ]\n",
      " [0.   0.   0.  ]]\n"
     ]
    }
   ],
   "source": [
    "print(f'Матрица D:\\n{D}') "
   ]
  },
  {
   "cell_type": "code",
   "execution_count": 5,
   "id": "3418453a",
   "metadata": {},
   "outputs": [
    {
     "name": "stdout",
     "output_type": "stream",
     "text": [
      "сингулярными числами матрицы A:\n",
      "[8.82 6.14 2.53]\n"
     ]
    }
   ],
   "source": [
    "print(f'сингулярными числами матрицы A:\\n{s}')"
   ]
  },
  {
   "cell_type": "code",
   "execution_count": 6,
   "id": "5898e24f",
   "metadata": {},
   "outputs": [
    {
     "name": "stdout",
     "output_type": "stream",
     "text": [
      "Матрица U:\n",
      "[[ 0.17  0.16 -0.53 -0.8  -0.16]\n",
      " [ 0.39 -0.53  0.61 -0.43  0.03]\n",
      " [-0.14 -0.82 -0.52  0.14  0.07]\n",
      " [ 0.89  0.06 -0.25  0.38 -0.06]\n",
      " [ 0.08  0.11 -0.08 -0.11  0.98]]\n"
     ]
    }
   ],
   "source": [
    "print(f'Матрица U:\\n{U}')"
   ]
  },
  {
   "cell_type": "code",
   "execution_count": 7,
   "id": "86cbfd0f",
   "metadata": {},
   "outputs": [
    {
     "name": "stdout",
     "output_type": "stream",
     "text": [
      "[[ 1.  0. -0.  0. -0.]\n",
      " [ 0.  1.  0.  0.  0.]\n",
      " [-0.  0.  1. -0. -0.]\n",
      " [ 0.  0. -0.  1. -0.]\n",
      " [-0.  0. -0. -0.  1.]]\n"
     ]
    }
   ],
   "source": [
    "print(np.dot(U.T, U)) # проверка на ортогональность"
   ]
  },
  {
   "cell_type": "code",
   "execution_count": 8,
   "id": "d401756f",
   "metadata": {},
   "outputs": [
    {
     "name": "stdout",
     "output_type": "stream",
     "text": [
      "Матрица V:\n",
      "[[ 0.07 -0.37 -0.93]\n",
      " [ 0.72  0.67 -0.21]\n",
      " [ 0.69 -0.65  0.31]]\n"
     ]
    }
   ],
   "source": [
    "print(f'Матрица V:\\n{V}')"
   ]
  },
  {
   "cell_type": "markdown",
   "id": "f7d3520a",
   "metadata": {},
   "source": [
    "Проверяем результат, подставив полученные значение U, D, V обратно в формулу:\n",
    "$$A=UDV^{T}$$"
   ]
  },
  {
   "cell_type": "code",
   "execution_count": 9,
   "id": "527895ab",
   "metadata": {},
   "outputs": [
    {
     "name": "stdout",
     "output_type": "stream",
     "text": [
      "[[ 1.  2.  0.]\n",
      " [ 0. -0.  5.]\n",
      " [ 3. -4.  2.]\n",
      " [ 1.  6.  5.]\n",
      " [-0.  1. -0.]]\n"
     ]
    }
   ],
   "source": [
    "print(np.dot(np.dot(U, D), V.T))"
   ]
  },
  {
   "cell_type": "markdown",
   "id": "26757d70",
   "metadata": {},
   "source": [
    "Получили матрицу, соответствующую исходной матрице $A$"
   ]
  },
  {
   "cell_type": "markdown",
   "id": "617cd2ea",
   "metadata": {},
   "source": [
    "Евклидова норма матрицы:\n",
    "$$\\left \\| A \\right \\|_{E}=\\text{max}\\left (\\frac{\\left \\| Ax \\right \\|}{\\left \\| x \\right \\|}\\right )$$\n",
    "\n",
    "евклидова норма матрицы равна евклидовой норме диагональной матрицы из её сингулярных чисел $D$. Максимальное значение полученного отношения будет равно максимальному сингулярному числу $\\mu_{max}$, и, принимая во внимание факт сортировки по убыванию сингулярных чисел, получим:\n",
    "$$\\mu_{1}\\geqslant \\mu_{2}\\geqslant ... \\geqslant \\mu_{r} > 0.$$\n",
    "$$\\left \\| A \\right \\|_{E}=\\mu_{1}.$$\n",
    "\n"
   ]
  },
  {
   "cell_type": "code",
   "execution_count": 10,
   "id": "5f63f249",
   "metadata": {},
   "outputs": [
    {
     "data": {
      "text/plain": [
       "8.824868854820444"
      ]
     },
     "execution_count": 10,
     "metadata": {},
     "output_type": "execute_result"
    }
   ],
   "source": [
    "max(s) #ищем максимальное сингулярное число из массива диагональных элементов s"
   ]
  },
  {
   "cell_type": "code",
   "execution_count": 11,
   "id": "9ffd7f31",
   "metadata": {},
   "outputs": [
    {
     "data": {
      "text/plain": [
       "8.824868854820444"
      ]
     },
     "execution_count": 11,
     "metadata": {},
     "output_type": "execute_result"
    }
   ],
   "source": [
    "s[0] #либо берем первый элемент массива s"
   ]
  },
  {
   "cell_type": "code",
   "execution_count": 12,
   "id": "da3416ac",
   "metadata": {},
   "outputs": [
    {
     "data": {
      "text/plain": [
       "8.824868854820444"
      ]
     },
     "execution_count": 12,
     "metadata": {},
     "output_type": "execute_result"
    }
   ],
   "source": [
    "np.linalg.norm(A, ord=2)  #вариант через функцию linalg.norm() ord = 2"
   ]
  },
  {
   "cell_type": "markdown",
   "id": "b2ca3f5f",
   "metadata": {},
   "source": [
    "Когда известно сингулярное разложение матрицы, её норма Фробениуса вычисляется как:\n",
    "\n",
    "$$\\left \\| A \\right \\|_{F}=\\sqrt{\\sum_{k=1}^{r}\\mu_{k}^{2}}.$$\n",
    "\n",
    "где $\\mu_{k}$ - сингулярные числа матрицы, в данном случае $k=3$\n",
    "$$\\mu_{1}=8.82$$\n",
    "$$\\mu_{2}=6.14$$\n",
    "$$\\mu_{2}=2.53$$"
   ]
  },
  {
   "cell_type": "code",
   "execution_count": 13,
   "id": "6bb5bd9a",
   "metadata": {},
   "outputs": [
    {
     "data": {
      "text/plain": [
       "11.04051176350082"
      ]
     },
     "execution_count": 13,
     "metadata": {},
     "output_type": "execute_result"
    }
   ],
   "source": [
    "np.sqrt(8.82**2+6.14**2+2.53**2)"
   ]
  },
  {
   "cell_type": "code",
   "execution_count": 14,
   "id": "5cfbd3db",
   "metadata": {},
   "outputs": [
    {
     "data": {
      "text/plain": [
       "11.045361017187261"
      ]
     },
     "execution_count": 14,
     "metadata": {},
     "output_type": "execute_result"
    }
   ],
   "source": [
    "np.linalg.norm(A, ord = 'fro') #вариант через функцию linalg.norm() fro means Frobenius"
   ]
  },
  {
   "cell_type": "code",
   "execution_count": 15,
   "id": "ba2f27b6",
   "metadata": {},
   "outputs": [
    {
     "data": {
      "text/plain": [
       "11.045361017187263"
      ]
     },
     "execution_count": 15,
     "metadata": {},
     "output_type": "execute_result"
    }
   ],
   "source": [
    "a_f = 0\n",
    "for i in s:\n",
    "    a_f += i**2\n",
    "np.sqrt(a_f)"
   ]
  },
  {
   "cell_type": "code",
   "execution_count": null,
   "id": "273701f6",
   "metadata": {},
   "outputs": [],
   "source": []
  }
 ],
 "metadata": {
  "kernelspec": {
   "display_name": "Python 3 (ipykernel)",
   "language": "python",
   "name": "python3"
  },
  "language_info": {
   "codemirror_mode": {
    "name": "ipython",
    "version": 3
   },
   "file_extension": ".py",
   "mimetype": "text/x-python",
   "name": "python",
   "nbconvert_exporter": "python",
   "pygments_lexer": "ipython3",
   "version": "3.8.10"
  }
 },
 "nbformat": 4,
 "nbformat_minor": 5
}
